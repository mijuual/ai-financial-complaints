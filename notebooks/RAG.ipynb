{
 "cells": [
  {
   "cell_type": "code",
   "execution_count": 3,
   "id": "680e65dd",
   "metadata": {},
   "outputs": [],
   "source": [
    "import sys\n",
    "sys.path.append('../src')  # Point to the folder, not a package\n",
    "\n",
    "from rag_pipeline import build_rag_pipeline, evaluate_pipeline  \n"
   ]
  },
  {
   "cell_type": "code",
   "execution_count": null,
   "id": "b4cb53e6",
   "metadata": {},
   "outputs": [],
   "source": [
    "from huggingface_hub import login\n",
    "import os\n",
    "HUGGINGFACE_API_KEY = os.getenv(\"HUGGINGFACE_API_KEY\") \n",
    "login(token=\"HUGGINGFACE_API_KEY\")\n"
   ]
  },
  {
   "cell_type": "code",
   "execution_count": 4,
   "id": "5a2d788f",
   "metadata": {},
   "outputs": [
    {
     "name": "stdout",
     "output_type": "stream",
     "text": [
      "\n",
      "✅ Loading embedding model...\n",
      "✅ Loading Chroma vector store from: c:\\Users\\mijuu\\Documents\\ai-financial-complaints\\src\\..\\chroma_db\n",
      "✅ Loading fast generation model...\n"
     ]
    },
    {
     "name": "stderr",
     "output_type": "stream",
     "text": [
      "Device set to use cpu\n"
     ]
    },
    {
     "name": "stdout",
     "output_type": "stream",
     "text": [
      "\n",
      "📊 RAG Pipeline Evaluation (Markdown Table)\n",
      "| Question | Generated Answer | Top Source Excerpt | Quality Score (1-5) | Comments |\n",
      "|----------|------------------|---------------------|----------------------|----------|\n",
      "| What are the most common issues with the Buy Now Pay Later service? | Overdraft fees have cost me a great deal over the years. | the over charged over draft fees. This has caused financial distress for me many many times. The charging of overdraft fees multiple times for the sam... | 4 |  |\n",
      "| Why are customers dissatisfied with their savings accounts? | They do not like being taken advantage of by greedy corporations. | The account structure, payment application, and back-loaded interest model misleads consumers and results in significant, avoidable debt.... | 4 |  |\n",
      "| Are there any frequent complaints about credit card fraud? | Yes. | While I appreciate the reversals, the pattern of fee generation and high minimum payments continues, making it difficult to manage payments and creati... | 5 |  |\n"
     ]
    },
    {
     "name": "stderr",
     "output_type": "stream",
     "text": [
      "Token indices sequence length is longer than the specified maximum sequence length for this model (555 > 512). Running this sequence through the model will result in indexing errors\n"
     ]
    },
    {
     "name": "stdout",
     "output_type": "stream",
     "text": [
      "| What kind of delays do users report for money transfers? | late payments are inaccurate, misleading, and do not reflect their intent or historical behavior. | I find it frustrating and concerning that such delays occur, especially when financial institutions are entrusted to handle sensitive information effi... | 5 |  |\n",
      "| How do customers feel about the loan approval process? | It is a misleading and deceptive lending practice. | When people depend on credit and for them to treat customers like this the customers that are the reason they are in business because of their custome... | 5 |  |\n"
     ]
    }
   ],
   "source": [
    "qa = build_rag_pipeline()\n",
    "\n",
    "questions = [\n",
    "    \"What are the most common issues with the Buy Now Pay Later service?\",\n",
    "    \"Why are customers dissatisfied with their savings accounts?\",\n",
    "    \"Are there any frequent complaints about credit card fraud?\",\n",
    "    \"What kind of delays do users report for money transfers?\",\n",
    "    \"How do customers feel about the loan approval process?\"\n",
    "]\n",
    "\n",
    "evaluate_pipeline(qa, questions)"
   ]
  }
 ],
 "metadata": {
  "kernelspec": {
   "display_name": ".venv",
   "language": "python",
   "name": "python3"
  },
  "language_info": {
   "codemirror_mode": {
    "name": "ipython",
    "version": 3
   },
   "file_extension": ".py",
   "mimetype": "text/x-python",
   "name": "python",
   "nbconvert_exporter": "python",
   "pygments_lexer": "ipython3",
   "version": "3.12.3"
  }
 },
 "nbformat": 4,
 "nbformat_minor": 5
}
