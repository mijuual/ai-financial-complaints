{
 "cells": [
  {
   "cell_type": "code",
   "execution_count": 1,
   "id": "86c6891f",
   "metadata": {},
   "outputs": [],
   "source": [
    "import sys\n",
    "sys.path.append('../src')  # Make sure the 'src' folder is in your path\n",
    "\n",
    "from chunk_and_prepare import chunk_complaints  # Import the function\n",
    "from embed_and_index_chromadb import embed_and_store_chroma"
   ]
  },
  {
   "cell_type": "code",
   "execution_count": 2,
   "id": "bc9b2cb8",
   "metadata": {},
   "outputs": [
    {
     "name": "stdout",
     "output_type": "stream",
     "text": [
      "✅ Total text chunks created: 1585135\n",
      "✅ Chunk data saved to: ../data/chunks_with_metadata.pkl\n"
     ]
    }
   ],
   "source": [
    "chunk_complaints()"
   ]
  },
  {
   "cell_type": "code",
   "execution_count": 2,
   "id": "a7b5c1a1",
   "metadata": {},
   "outputs": [
    {
     "name": "stdout",
     "output_type": "stream",
     "text": [
      "✅ Loaded 5000 chunks.\n",
      "🔍 Loading embedding model...\n"
     ]
    },
    {
     "name": "stderr",
     "output_type": "stream",
     "text": [
      "c:\\Users\\mijuu\\Documents\\ai-financial-complaints\\notebooks\\../src\\embed_and_index_chromadb.py:32: LangChainDeprecationWarning: The class `HuggingFaceEmbeddings` was deprecated in LangChain 0.2.2 and will be removed in 1.0. An updated version of the class exists in the :class:`~langchain-huggingface package and should be used instead. To use it run `pip install -U :class:`~langchain-huggingface` and import as `from :class:`~langchain_huggingface import HuggingFaceEmbeddings``.\n",
      "  embeddings = HuggingFaceEmbeddings(model_name=model_name)\n",
      "c:\\Users\\mijuu\\Documents\\ai-financial-complaints\\.venv\\Lib\\site-packages\\tqdm\\auto.py:21: TqdmWarning: IProgress not found. Please update jupyter and ipywidgets. See https://ipywidgets.readthedocs.io/en/stable/user_install.html\n",
      "  from .autonotebook import tqdm as notebook_tqdm\n"
     ]
    },
    {
     "name": "stdout",
     "output_type": "stream",
     "text": [
      "🔗 Generating embeddings and saving to ChromaDB...\n",
      "✅ Embeddings stored and Chroma DB persisted at: ../chroma_db\n"
     ]
    },
    {
     "name": "stderr",
     "output_type": "stream",
     "text": [
      "c:\\Users\\mijuu\\Documents\\ai-financial-complaints\\notebooks\\../src\\embed_and_index_chromadb.py:49: LangChainDeprecationWarning: Since Chroma 0.4.x the manual persistence method is no longer supported as docs are automatically persisted.\n",
      "  vectordb.persist()\n"
     ]
    }
   ],
   "source": [
    "embed_and_store_chroma()"
   ]
  }
 ],
 "metadata": {
  "kernelspec": {
   "display_name": ".venv",
   "language": "python",
   "name": "python3"
  },
  "language_info": {
   "codemirror_mode": {
    "name": "ipython",
    "version": 3
   },
   "file_extension": ".py",
   "mimetype": "text/x-python",
   "name": "python",
   "nbconvert_exporter": "python",
   "pygments_lexer": "ipython3",
   "version": "3.12.3"
  }
 },
 "nbformat": 4,
 "nbformat_minor": 5
}
